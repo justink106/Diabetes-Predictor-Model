{
 "cells": [
  {
   "cell_type": "markdown",
   "id": "cbb60f63-c014-4af2-bf83-01a4ecaa9d03",
   "metadata": {},
   "source": [
    "# Diabetes Predictor Model - Modeling"
   ]
  },
  {
   "cell_type": "markdown",
   "id": "3240a6ec-6998-4bdb-963b-c866911954bb",
   "metadata": {},
   "source": [
    "### In this notebook we will:\n",
    "### 1. Apply 2-3 different modeling methods\n",
    "### 2. Apply model hyperparameter tuning methods\n",
    "### 3. Define the metrics I use to choose my final model\n",
    "### 4. Evaluate the performance of the different models \n",
    "### 5. Identify one of the models as the best model "
   ]
  },
  {
   "cell_type": "markdown",
   "id": "f805f3db-4daf-417e-b9f4-394bea4183a7",
   "metadata": {},
   "source": [
    "##### The main objective is to develop a binary classification model to predict if an individual has Diabetes using their personal and health indicators"
   ]
  },
  {
   "cell_type": "markdown",
   "id": "e1561768-7832-4432-910f-ac9613d33325",
   "metadata": {},
   "source": [
    "### Imports"
   ]
  },
  {
   "cell_type": "code",
   "execution_count": 16,
   "id": "c74db905-a5bc-4b19-8e22-f1a6d5b648ff",
   "metadata": {},
   "outputs": [
    {
     "name": "stdout",
     "output_type": "stream",
     "text": [
      "Collecting xgboost\n",
      "  Downloading xgboost-3.0.0-py3-none-macosx_12_0_arm64.whl.metadata (2.1 kB)\n",
      "Requirement already satisfied: numpy in /opt/anaconda3/lib/python3.11/site-packages (from xgboost) (1.26.4)\n",
      "Requirement already satisfied: scipy in /opt/anaconda3/lib/python3.11/site-packages (from xgboost) (1.11.4)\n",
      "Downloading xgboost-3.0.0-py3-none-macosx_12_0_arm64.whl (2.0 MB)\n",
      "\u001b[2K   \u001b[90m━━━━━━━━━━━━━━━━━━━━━━━━━━━━━━━━━━━━━━━━\u001b[0m \u001b[32m2.0/2.0 MB\u001b[0m \u001b[31m9.9 MB/s\u001b[0m eta \u001b[36m0:00:00\u001b[0m:00:01\u001b[0m00:01\u001b[0m\n",
      "\u001b[?25hInstalling collected packages: xgboost\n",
      "Successfully installed xgboost-3.0.0\n"
     ]
    }
   ],
   "source": [
    "!pip install xgboost"
   ]
  },
  {
   "cell_type": "code",
   "execution_count": 72,
   "id": "3b476a2b-45fc-439e-8a19-82c02faf6487",
   "metadata": {},
   "outputs": [],
   "source": [
    "import numpy as np\n",
    "import pandas as pd\n",
    "import matplotlib.pyplot as plt\n",
    "import seaborn as sns\n",
    "import statsmodels.api as sm\n",
    "from statsmodels.graphics.api import abline_plot\n",
    "from sklearn.metrics import mean_squared_error, r2_score, accuracy_score, roc_auc_score, confusion_matrix, classification_report, precision_score, recall_score, f1_score, precision_recall_curve, make_scorer, recall_score\n",
    "from sklearn.model_selection import train_test_split, GridSearchCV, RandomizedSearchCV\n",
    "\n",
    "import xgboost as xgb\n",
    "from xgboost import XGBClassifier, DMatrix\n",
    "\n",
    "#show plots inline\n",
    "%matplotlib inline"
   ]
  },
  {
   "cell_type": "markdown",
   "id": "1c012be5-a1d1-4a77-92ec-b7e0ee0dd9bd",
   "metadata": {},
   "source": [
    "##### Since I have a binary classification problem, I am going to use the following modeling methods...\n",
    "##### 1. XGBoost (tree-based model)\n",
    "##### 2. K-Nearest Neighbors (KNN) (instance-based model)\n",
    "##### 3. Support Vector Machine (SVM) (margin-based model)"
   ]
  },
  {
   "cell_type": "markdown",
   "id": "2db52baa-fff0-460b-9b29-72cfab8091d2",
   "metadata": {},
   "source": [
    "### Loading the Data"
   ]
  },
  {
   "cell_type": "code",
   "execution_count": 9,
   "id": "1380dec5-9191-46a7-b24b-b206b9d8feb4",
   "metadata": {},
   "outputs": [],
   "source": [
    "# Reading the saved CSV's\n",
    "# Using .squeeze() to turn my single-column DataFrame into a Series\n",
    "\n",
    "X_train = pd.read_csv('X_train.csv')\n",
    "X_test = pd.read_csv('X_test.csv')\n",
    "y_train = pd.read_csv('y_train.csv').squeeze()\n",
    "y_test = pd.read_csv('y_test.csv').squeeze()"
   ]
  },
  {
   "cell_type": "code",
   "execution_count": 11,
   "id": "83c967fb-1c97-40cd-8f72-4439b8f8b4c4",
   "metadata": {},
   "outputs": [
    {
     "name": "stdout",
     "output_type": "stream",
     "text": [
      "(202944, 21) (202944,)\n",
      "(50736, 21) (50736,)\n"
     ]
    }
   ],
   "source": [
    "# Ensuring the shapes match\n",
    "\n",
    "print(X_train.shape, y_train.shape)\n",
    "print(X_test.shape, y_test.shape)"
   ]
  },
  {
   "cell_type": "code",
   "execution_count": 28,
   "id": "f650a3d4-1d4f-4ce6-a5f0-3314d04a23b5",
   "metadata": {
    "scrolled": true
   },
   "outputs": [
    {
     "name": "stdout",
     "output_type": "stream",
     "text": [
      "HighBP                  int64\n",
      "HighChol                int64\n",
      "CholCheck               int64\n",
      "BMI                     int64\n",
      "Smoker                  int64\n",
      "Stroke                  int64\n",
      "HeartDiseaseorAttack    int64\n",
      "PhysActivity            int64\n",
      "Fruits                  int64\n",
      "Veggies                 int64\n",
      "HvyAlcoholConsump       int64\n",
      "AnyHealthcare           int64\n",
      "NoDocbcCost             int64\n",
      "GenHlth                 int64\n",
      "MentHlth                int64\n",
      "PhysHlth                int64\n",
      "DiffWalk                int64\n",
      "Sex                     int64\n",
      "Age                     int64\n",
      "Education               int64\n",
      "Income                  int64\n",
      "dtype: object\n"
     ]
    }
   ],
   "source": [
    "print(X_train.dtypes)"
   ]
  },
  {
   "cell_type": "code",
   "execution_count": 30,
   "id": "78805f2b-490b-4f1c-8ae7-f0e65d331db0",
   "metadata": {},
   "outputs": [
    {
     "name": "stdout",
     "output_type": "stream",
     "text": [
      "int64\n"
     ]
    }
   ],
   "source": [
    "print(y_train.dtypes)"
   ]
  },
  {
   "cell_type": "markdown",
   "id": "e58dfa89-a381-4f47-9e51-70d47574ad09",
   "metadata": {},
   "source": [
    "### XGBoost Model"
   ]
  },
  {
   "cell_type": "code",
   "execution_count": 95,
   "id": "d4b2650a-64cd-4ddc-b705-71baa0610d71",
   "metadata": {},
   "outputs": [],
   "source": [
    "# Since my data is unbalanced as 'Diabetes' is in the minority, using imbalance ratio\n",
    "n_neg = (y_train == 0).sum()\n",
    "n_pos = (y_train == 1).sum()\n",
    "imbalance_ratio = n_neg / n_pos\n",
    "\n",
    "# Instantiating my XGBClassifier model\n",
    "xgb_clf = XGBClassifier(\n",
    "    objective='binary:logistic',\n",
    "    booster='gbtree',\n",
    "    eval_metric='logloss',\n",
    "    scale_pos_weight=scale,\n",
    "    n_estimators=300,\n",
    "    learning_rate=0.05,\n",
    "    max_depth=6,\n",
    "    subsample=0.8,\n",
    "    colsample_bytree=0.8,\n",
    "    random_state=42,\n",
    "    n_jobs=-1\n",
    ")"
   ]
  },
  {
   "cell_type": "code",
   "execution_count": 87,
   "id": "aa21cc6e-9344-4759-9d4d-d6ce9d599b30",
   "metadata": {},
   "outputs": [],
   "source": [
    "# Fitting my model\n",
    "xgb_clf.fit(X_train, y_train)\n",
    "\n",
    "# Predicting\n",
    "y_pred = xgb_clf.predict(X_test)\n",
    "y_pred_proba = xgb_clf.predict_proba(X_test)[:, 1]   # Doing this keeps only the probability that each sample belongs to the positive class"
   ]
  },
  {
   "cell_type": "code",
   "execution_count": 89,
   "id": "935ae0fe-96f2-4f3d-a720-23715608795d",
   "metadata": {},
   "outputs": [
    {
     "name": "stdout",
     "output_type": "stream",
     "text": [
      "Accuracy : 0.7223470514033428\n",
      "Precision : 0.33690297708288713\n",
      "Recall : 0.7869918699186992\n",
      "F1 : 0.4718233287090848\n",
      "ROC-AUC : 0.8256563513095054\n"
     ]
    }
   ],
   "source": [
    "# Getting my first baseline\n",
    "print(f'Accuracy : {accuracy_score(y_test, y_pred)}')\n",
    "print(f'Precision : {precision_score(y_test, y_pred)}')\n",
    "print(f'Recall : {recall_score(y_test, y_pred)}')\n",
    "print(f'F1 : {f1_score(y_test, y_pred)}')\n",
    "print(f'ROC-AUC : {roc_auc_score(y_test, y_pred_proba)}')"
   ]
  },
  {
   "cell_type": "code",
   "execution_count": 97,
   "id": "bc72882d-b00e-4d35-8eed-e25b4becee8a",
   "metadata": {},
   "outputs": [],
   "source": [
    "# Applying hyperparameter tuning\n",
    "param_grid = {\n",
    "    'n_estimators': [200, 400, 800],\n",
    "    'learning_rate': [0.03, 0.1],\n",
    "    'max_depth': [4, 6, 8],\n",
    "    'subsample': [0.8, 1.0],\n",
    "    'colsample_bytree': [0.8, 1.0],\n",
    "    'scale_pos_weight': [1, imbalance_ratio/2, imbalance_ratio, imbalance_ratio*2]\n",
    "}"
   ]
  },
  {
   "cell_type": "code",
   "execution_count": 101,
   "id": "cce851a6-9f4f-4345-9543-b22a753729b5",
   "metadata": {},
   "outputs": [
    {
     "name": "stdout",
     "output_type": "stream",
     "text": [
      "Best scale_pos_weight: 10.691138765555625\n",
      "Recall on test: 0.9034396497811132\n"
     ]
    }
   ],
   "source": [
    "# Using RandomizedSearchCV to determine the best hyperparameters for the XGB model\n",
    "recall_scorer = make_scorer(recall_score)\n",
    "\n",
    "rand = RandomizedSearchCV(\n",
    "    estimator=XGBClassifier(eval_metric='logloss'),\n",
    "    param_distributions=param_grid,\n",
    "    n_iter=20,\n",
    "    scoring=recall_scorer,\n",
    "    cv=5,\n",
    "    random_state=42,\n",
    "    n_jobs=1\n",
    ")\n",
    "\n",
    "rand.fit(X_train, y_train)\n",
    "\n",
    "best_xgb = rand.best_estimator_\n",
    "y_pred = best_xgb.predict(X_test)\n",
    "\n",
    "print(f'Best scale_pos_weight: {best_xgb.get_params()[\"scale_pos_weight\"]}')\n",
    "print(f'Recall on test: {recall_score(y_test, y_pred)}')"
   ]
  },
  {
   "cell_type": "markdown",
   "id": "b3b0280c-153d-4f32-8153-9cba2e81d927",
   "metadata": {},
   "source": [
    "##### Missing a true diabetic (a false negative) is more harmful than a false alarm, therefore I am using Recall as my metric\n",
    "##### Telling my search to pick hyperparameters that maximize recall on my cross-validation folds (catch as many Diabetes as possible)"
   ]
  },
  {
   "cell_type": "code",
   "execution_count": null,
   "id": "acd1592f-f7cc-4024-a139-836ec3260b73",
   "metadata": {},
   "outputs": [],
   "source": [
    "# Checking my confusion matrix as high recall can come with more false positives\n"
   ]
  }
 ],
 "metadata": {
  "kernelspec": {
   "display_name": "Python 3 (ipykernel)",
   "language": "python",
   "name": "python3"
  },
  "language_info": {
   "codemirror_mode": {
    "name": "ipython",
    "version": 3
   },
   "file_extension": ".py",
   "mimetype": "text/x-python",
   "name": "python",
   "nbconvert_exporter": "python",
   "pygments_lexer": "ipython3",
   "version": "3.11.8"
  }
 },
 "nbformat": 4,
 "nbformat_minor": 5
}
