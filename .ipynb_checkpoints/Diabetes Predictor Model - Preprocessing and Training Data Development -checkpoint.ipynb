{
 "cells": [
  {
   "cell_type": "markdown",
   "id": "99f70817-1fd0-42a5-b4ed-a81c056b2633",
   "metadata": {},
   "source": [
    "# Diabetes Predictor Model - Preprocessing and Training Data Development"
   ]
  },
  {
   "cell_type": "markdown",
   "id": "e48e2417-a9fc-430c-9922-f78f8b8f2f56",
   "metadata": {},
   "source": [
    "### In this notebook we will:\n",
    "### 1. Create dummy or indicator features for categorical features\n",
    "### 2. Standardize the magnitude of numeric features using scaler\n",
    "### 3. Split the data into testing and training datasets"
   ]
  },
  {
   "cell_type": "code",
   "execution_count": 40,
   "id": "9b647ff7-9e36-481e-af66-141fb4c5b3d0",
   "metadata": {},
   "outputs": [],
   "source": [
    "# Importing modules\n",
    "\n",
    "import numpy as np\n",
    "import pandas as pd\n",
    "import matplotlib.pyplot as plt\n",
    "import seaborn as sns\n",
    "import scipy.stats as stats\n",
    "import statsmodels.api as sm\n",
    "from sklearn.preprocessing import LabelEncoder\n",
    "from sklearn.model_selection import train_test_split\n",
    "\n",
    "#show plots inline\n",
    "%matplotlib inline"
   ]
  },
  {
   "cell_type": "code",
   "execution_count": 2,
   "id": "9dbb03d2-b390-4d5b-b5f3-add9444fdaab",
   "metadata": {},
   "outputs": [],
   "source": [
    "# Supress future warnings\n",
    "\n",
    "import warnings\n",
    "warnings.simplefilter(action='ignore', category=FutureWarning)\n",
    "warnings.simplefilter(action='ignore', category=UserWarning)"
   ]
  },
  {
   "cell_type": "code",
   "execution_count": 3,
   "id": "3c2803f7-eebc-4e62-a4cd-fe79fd73ae55",
   "metadata": {},
   "outputs": [],
   "source": [
    "# Loading the dataset\n",
    "\n",
    "df = pd.read_csv('cleaned_diabetes_df.csv')"
   ]
  },
  {
   "cell_type": "code",
   "execution_count": 4,
   "id": "78bbbff6-785f-4d2a-a3f6-418d447cf2e4",
   "metadata": {},
   "outputs": [
    {
     "data": {
      "text/html": [
       "<div>\n",
       "<style scoped>\n",
       "    .dataframe tbody tr th:only-of-type {\n",
       "        vertical-align: middle;\n",
       "    }\n",
       "\n",
       "    .dataframe tbody tr th {\n",
       "        vertical-align: top;\n",
       "    }\n",
       "\n",
       "    .dataframe thead th {\n",
       "        text-align: right;\n",
       "    }\n",
       "</style>\n",
       "<table border=\"1\" class=\"dataframe\">\n",
       "  <thead>\n",
       "    <tr style=\"text-align: right;\">\n",
       "      <th></th>\n",
       "      <th>DiabetesDiagnosis</th>\n",
       "      <th>HighBP</th>\n",
       "      <th>HighChol</th>\n",
       "      <th>CholCheck</th>\n",
       "      <th>BMI</th>\n",
       "      <th>Smoker</th>\n",
       "      <th>Stroke</th>\n",
       "      <th>HeartDiseaseorAttack</th>\n",
       "      <th>PhysActivity</th>\n",
       "      <th>Fruits</th>\n",
       "      <th>...</th>\n",
       "      <th>AnyHealthcare</th>\n",
       "      <th>NoDocbcCost</th>\n",
       "      <th>GenHlth</th>\n",
       "      <th>MentHlth</th>\n",
       "      <th>PhysHlth</th>\n",
       "      <th>DiffWalk</th>\n",
       "      <th>Sex</th>\n",
       "      <th>Age</th>\n",
       "      <th>Education</th>\n",
       "      <th>Income</th>\n",
       "    </tr>\n",
       "  </thead>\n",
       "  <tbody>\n",
       "    <tr>\n",
       "      <th>0</th>\n",
       "      <td>diabetes</td>\n",
       "      <td>1.0</td>\n",
       "      <td>1.0</td>\n",
       "      <td>1.0</td>\n",
       "      <td>25.0</td>\n",
       "      <td>0.0</td>\n",
       "      <td>0.0</td>\n",
       "      <td>1.0</td>\n",
       "      <td>1.0</td>\n",
       "      <td>1.0</td>\n",
       "      <td>...</td>\n",
       "      <td>1.0</td>\n",
       "      <td>0.0</td>\n",
       "      <td>2.0</td>\n",
       "      <td>0.0</td>\n",
       "      <td>0.0</td>\n",
       "      <td>0.0</td>\n",
       "      <td>0.0</td>\n",
       "      <td>9.0</td>\n",
       "      <td>6.0</td>\n",
       "      <td>2.0</td>\n",
       "    </tr>\n",
       "    <tr>\n",
       "      <th>1</th>\n",
       "      <td>diabetes</td>\n",
       "      <td>0.0</td>\n",
       "      <td>0.0</td>\n",
       "      <td>1.0</td>\n",
       "      <td>29.0</td>\n",
       "      <td>0.0</td>\n",
       "      <td>0.0</td>\n",
       "      <td>0.0</td>\n",
       "      <td>0.0</td>\n",
       "      <td>1.0</td>\n",
       "      <td>...</td>\n",
       "      <td>1.0</td>\n",
       "      <td>0.0</td>\n",
       "      <td>3.0</td>\n",
       "      <td>0.0</td>\n",
       "      <td>0.0</td>\n",
       "      <td>0.0</td>\n",
       "      <td>0.0</td>\n",
       "      <td>11.0</td>\n",
       "      <td>4.0</td>\n",
       "      <td>4.0</td>\n",
       "    </tr>\n",
       "    <tr>\n",
       "      <th>2</th>\n",
       "      <td>diabetes</td>\n",
       "      <td>1.0</td>\n",
       "      <td>1.0</td>\n",
       "      <td>1.0</td>\n",
       "      <td>35.0</td>\n",
       "      <td>1.0</td>\n",
       "      <td>0.0</td>\n",
       "      <td>0.0</td>\n",
       "      <td>0.0</td>\n",
       "      <td>1.0</td>\n",
       "      <td>...</td>\n",
       "      <td>1.0</td>\n",
       "      <td>0.0</td>\n",
       "      <td>4.0</td>\n",
       "      <td>1.0</td>\n",
       "      <td>30.0</td>\n",
       "      <td>0.0</td>\n",
       "      <td>0.0</td>\n",
       "      <td>10.0</td>\n",
       "      <td>6.0</td>\n",
       "      <td>8.0</td>\n",
       "    </tr>\n",
       "    <tr>\n",
       "      <th>3</th>\n",
       "      <td>diabetes</td>\n",
       "      <td>1.0</td>\n",
       "      <td>0.0</td>\n",
       "      <td>1.0</td>\n",
       "      <td>31.0</td>\n",
       "      <td>0.0</td>\n",
       "      <td>0.0</td>\n",
       "      <td>0.0</td>\n",
       "      <td>1.0</td>\n",
       "      <td>0.0</td>\n",
       "      <td>...</td>\n",
       "      <td>1.0</td>\n",
       "      <td>0.0</td>\n",
       "      <td>3.0</td>\n",
       "      <td>0.0</td>\n",
       "      <td>0.0</td>\n",
       "      <td>0.0</td>\n",
       "      <td>0.0</td>\n",
       "      <td>11.0</td>\n",
       "      <td>6.0</td>\n",
       "      <td>6.0</td>\n",
       "    </tr>\n",
       "    <tr>\n",
       "      <th>4</th>\n",
       "      <td>diabetes</td>\n",
       "      <td>1.0</td>\n",
       "      <td>1.0</td>\n",
       "      <td>1.0</td>\n",
       "      <td>26.0</td>\n",
       "      <td>1.0</td>\n",
       "      <td>0.0</td>\n",
       "      <td>0.0</td>\n",
       "      <td>1.0</td>\n",
       "      <td>1.0</td>\n",
       "      <td>...</td>\n",
       "      <td>1.0</td>\n",
       "      <td>0.0</td>\n",
       "      <td>3.0</td>\n",
       "      <td>0.0</td>\n",
       "      <td>10.0</td>\n",
       "      <td>1.0</td>\n",
       "      <td>1.0</td>\n",
       "      <td>12.0</td>\n",
       "      <td>4.0</td>\n",
       "      <td>7.0</td>\n",
       "    </tr>\n",
       "  </tbody>\n",
       "</table>\n",
       "<p>5 rows × 22 columns</p>\n",
       "</div>"
      ],
      "text/plain": [
       "  DiabetesDiagnosis  HighBP  HighChol  CholCheck   BMI  Smoker  Stroke  \\\n",
       "0          diabetes     1.0       1.0        1.0  25.0     0.0     0.0   \n",
       "1          diabetes     0.0       0.0        1.0  29.0     0.0     0.0   \n",
       "2          diabetes     1.0       1.0        1.0  35.0     1.0     0.0   \n",
       "3          diabetes     1.0       0.0        1.0  31.0     0.0     0.0   \n",
       "4          diabetes     1.0       1.0        1.0  26.0     1.0     0.0   \n",
       "\n",
       "   HeartDiseaseorAttack  PhysActivity  Fruits  ...  AnyHealthcare  \\\n",
       "0                   1.0           1.0     1.0  ...            1.0   \n",
       "1                   0.0           0.0     1.0  ...            1.0   \n",
       "2                   0.0           0.0     1.0  ...            1.0   \n",
       "3                   0.0           1.0     0.0  ...            1.0   \n",
       "4                   0.0           1.0     1.0  ...            1.0   \n",
       "\n",
       "   NoDocbcCost  GenHlth  MentHlth  PhysHlth  DiffWalk  Sex   Age  Education  \\\n",
       "0          0.0      2.0       0.0       0.0       0.0  0.0   9.0        6.0   \n",
       "1          0.0      3.0       0.0       0.0       0.0  0.0  11.0        4.0   \n",
       "2          0.0      4.0       1.0      30.0       0.0  0.0  10.0        6.0   \n",
       "3          0.0      3.0       0.0       0.0       0.0  0.0  11.0        6.0   \n",
       "4          0.0      3.0       0.0      10.0       1.0  1.0  12.0        4.0   \n",
       "\n",
       "   Income  \n",
       "0     2.0  \n",
       "1     4.0  \n",
       "2     8.0  \n",
       "3     6.0  \n",
       "4     7.0  \n",
       "\n",
       "[5 rows x 22 columns]"
      ]
     },
     "execution_count": 4,
     "metadata": {},
     "output_type": "execute_result"
    }
   ],
   "source": [
    "# Looking at first few row of the dataset\n",
    "\n",
    "df.head()"
   ]
  },
  {
   "cell_type": "code",
   "execution_count": 9,
   "id": "8b50b1d2-3ad2-45bd-a140-e06738aabcc1",
   "metadata": {
    "scrolled": true
   },
   "outputs": [
    {
     "data": {
      "text/plain": [
       "DiabetesDiagnosis        object\n",
       "HighBP                  float64\n",
       "HighChol                float64\n",
       "CholCheck               float64\n",
       "BMI                     float64\n",
       "Smoker                  float64\n",
       "Stroke                  float64\n",
       "HeartDiseaseorAttack    float64\n",
       "PhysActivity            float64\n",
       "Fruits                  float64\n",
       "Veggies                 float64\n",
       "HvyAlcoholConsump       float64\n",
       "AnyHealthcare           float64\n",
       "NoDocbcCost             float64\n",
       "GenHlth                 float64\n",
       "MentHlth                float64\n",
       "PhysHlth                float64\n",
       "DiffWalk                float64\n",
       "Sex                     float64\n",
       "Age                     float64\n",
       "Education               float64\n",
       "Income                  float64\n",
       "dtype: object"
      ]
     },
     "execution_count": 9,
     "metadata": {},
     "output_type": "execute_result"
    }
   ],
   "source": [
    "# Looking at the data types\n",
    "\n",
    "df.dtypes"
   ]
  },
  {
   "cell_type": "code",
   "execution_count": 11,
   "id": "64846a60-f50f-4e91-b531-b59b32ca45a5",
   "metadata": {},
   "outputs": [],
   "source": [
    "# Making MentHlth and PhysHlth into categorical features using buckets\n",
    "\n",
    "df['MentHlth'] = df['MentHlth'].astype(int)\n",
    "df['PhysHlth'] = df['PhysHlth'].astype(int)\n",
    "\n",
    "df['MentHlth'] = df['MentHlth'].clip(0, 30)\n",
    "df['PhysHlth'] = df['PhysHlth'].clip(0, 30)\n",
    "\n",
    "# Starting first with 'MentHlth'\n",
    "df['MentHlth'] = pd.cut(df['MentHlth'], bins=[0, 7, 14, 21, 28, 30], labels=[1, 2, 3, 4, 5], right=True, include_lowest=True)\n",
    "\n",
    "# Moving onto 'PhysHlth'\n",
    "df['PhysHlth'] = pd.cut(df['PhysHlth'], bins=[0, 7, 14, 21, 28, 30], labels=[1, 2, 3, 4, 5], right=True, include_lowest=True)"
   ]
  },
  {
   "cell_type": "code",
   "execution_count": 13,
   "id": "ee6c342b-7222-48c0-bae2-90413de53c3f",
   "metadata": {},
   "outputs": [
    {
     "name": "stdout",
     "output_type": "stream",
     "text": [
      "  MentHlth PhysHlth\n",
      "0        1        1\n",
      "1        1        1\n",
      "2        1        5\n",
      "3        1        1\n",
      "4        1        2\n",
      "5        5        3\n",
      "6        1        5\n",
      "7        1        1\n",
      "8        1        1\n",
      "9        1        1\n"
     ]
    }
   ],
   "source": [
    "print(df[['MentHlth', 'PhysHlth']].head(10))"
   ]
  },
  {
   "cell_type": "code",
   "execution_count": 15,
   "id": "775f3dbf-b7bd-4f70-8caa-a759178608f4",
   "metadata": {
    "scrolled": true
   },
   "outputs": [
    {
     "data": {
      "text/plain": [
       "DiabetesDiagnosis         object\n",
       "HighBP                   float64\n",
       "HighChol                 float64\n",
       "CholCheck                float64\n",
       "BMI                      float64\n",
       "Smoker                   float64\n",
       "Stroke                   float64\n",
       "HeartDiseaseorAttack     float64\n",
       "PhysActivity             float64\n",
       "Fruits                   float64\n",
       "Veggies                  float64\n",
       "HvyAlcoholConsump        float64\n",
       "AnyHealthcare            float64\n",
       "NoDocbcCost              float64\n",
       "GenHlth                  float64\n",
       "MentHlth                category\n",
       "PhysHlth                category\n",
       "DiffWalk                 float64\n",
       "Sex                      float64\n",
       "Age                      float64\n",
       "Education                float64\n",
       "Income                   float64\n",
       "dtype: object"
      ]
     },
     "execution_count": 15,
     "metadata": {},
     "output_type": "execute_result"
    }
   ],
   "source": [
    "# Looking at the data types again\n",
    "\n",
    "df.dtypes"
   ]
  },
  {
   "cell_type": "code",
   "execution_count": 17,
   "id": "a07502dc-3e60-4598-918b-6fc88cc071b4",
   "metadata": {},
   "outputs": [
    {
     "data": {
      "text/plain": [
       "0     25.0\n",
       "1     29.0\n",
       "2     35.0\n",
       "3     31.0\n",
       "4     26.0\n",
       "5     36.0\n",
       "6     31.0\n",
       "7     43.0\n",
       "8     29.0\n",
       "9     28.0\n",
       "10    41.0\n",
       "11    23.0\n",
       "12    37.0\n",
       "13    32.0\n",
       "14    27.0\n",
       "15    28.0\n",
       "16    40.0\n",
       "17    34.0\n",
       "18    23.0\n",
       "19    42.0\n",
       "20    31.0\n",
       "21    35.0\n",
       "22    39.0\n",
       "23    37.0\n",
       "24    30.0\n",
       "25    36.0\n",
       "26    41.0\n",
       "27    22.0\n",
       "28    37.0\n",
       "29    36.0\n",
       "Name: BMI, dtype: float64"
      ]
     },
     "execution_count": 17,
     "metadata": {},
     "output_type": "execute_result"
    }
   ],
   "source": [
    "# Checking the BMI feature to see if it can be converted to an integer\n",
    "# BMI will be my only continuous feature\n",
    "\n",
    "df['BMI'].head(30)"
   ]
  },
  {
   "cell_type": "code",
   "execution_count": 19,
   "id": "e395a963-36bf-4b30-a6fb-45634716de82",
   "metadata": {},
   "outputs": [
    {
     "data": {
      "text/plain": [
       "DiabetesDiagnosis       object\n",
       "HighBP                   int64\n",
       "HighChol                 int64\n",
       "CholCheck                int64\n",
       "BMI                      int64\n",
       "Smoker                   int64\n",
       "Stroke                   int64\n",
       "HeartDiseaseorAttack     int64\n",
       "PhysActivity             int64\n",
       "Fruits                   int64\n",
       "Veggies                  int64\n",
       "HvyAlcoholConsump        int64\n",
       "AnyHealthcare            int64\n",
       "NoDocbcCost              int64\n",
       "GenHlth                  int64\n",
       "MentHlth                 int64\n",
       "PhysHlth                 int64\n",
       "DiffWalk                 int64\n",
       "Sex                      int64\n",
       "Age                      int64\n",
       "Education                int64\n",
       "Income                   int64\n",
       "dtype: object"
      ]
     },
     "execution_count": 19,
     "metadata": {},
     "output_type": "execute_result"
    }
   ],
   "source": [
    "# Changing the dtype of certain features to integers\n",
    "\n",
    "features_to_convert = ['HighBP', 'HighChol', 'CholCheck', 'BMI', 'Smoker', 'Stroke', 'HeartDiseaseorAttack', 'PhysActivity', \\\n",
    "                       'Fruits', 'Veggies', 'HvyAlcoholConsump', 'AnyHealthcare', 'NoDocbcCost', 'GenHlth', 'MentHlth', \\\n",
    "                       'PhysHlth', 'DiffWalk', 'Sex', 'Age', 'Education', 'Income']\n",
    "\n",
    "df[features_to_convert] = df[features_to_convert].astype(int)\n",
    "\n",
    "df.dtypes"
   ]
  },
  {
   "cell_type": "code",
   "execution_count": 21,
   "id": "1570ba2e-38fb-431b-b76d-ac56fa82ff1d",
   "metadata": {},
   "outputs": [],
   "source": [
    "# Per my Exploratory Data Analysis notebook, going to make DiabetesDiagnosis into a just a binary categorical target feature\n",
    "\n",
    "# Defining category grouping\n",
    "group_mapping = {'diabetes' : 'diabetes', 'pre_diabetes' : 'diabetes', 'no_diabetes' : 'no_diabetes'}\n",
    "\n",
    "# Applying the mapping to the 'DiabetesDiagnosis' column\n",
    "df['DiabetesDiagnosis'] = df['DiabetesDiagnosis'].map(group_mapping)"
   ]
  },
  {
   "cell_type": "code",
   "execution_count": 23,
   "id": "27a037ec-c334-4151-a58a-e406f8e01554",
   "metadata": {},
   "outputs": [
    {
     "name": "stdout",
     "output_type": "stream",
     "text": [
      "['diabetes' 'no_diabetes']\n"
     ]
    }
   ],
   "source": [
    "# Exploring the Diabetes Diagnosis feature \n",
    "\n",
    "print(df['DiabetesDiagnosis'].unique())"
   ]
  },
  {
   "cell_type": "markdown",
   "id": "5c3a433b-c9f3-45cf-9861-6256d3c26aa1",
   "metadata": {},
   "source": [
    "#### With the above work, I grouped my pre-diabetes along with diabetes making this problem a binary classification problem"
   ]
  },
  {
   "cell_type": "code",
   "execution_count": 26,
   "id": "332129d4-7edd-4eac-a8c8-13ae5acb9dde",
   "metadata": {},
   "outputs": [],
   "source": [
    "# Manually mapping to make Diabetes diagnosis = 1\n",
    "\n",
    "df['DiabetesDiagnosis'] = df['DiabetesDiagnosis'].map({'no_diabetes': 0, 'diabetes': 1})\n"
   ]
  },
  {
   "cell_type": "code",
   "execution_count": 28,
   "id": "a0264f9e-23ce-4115-9f62-796aae221150",
   "metadata": {},
   "outputs": [
    {
     "name": "stdout",
     "output_type": "stream",
     "text": [
      "[1 0]\n"
     ]
    }
   ],
   "source": [
    "# Exploring my target feature\n",
    "\n",
    "print(df['DiabetesDiagnosis'].unique())"
   ]
  },
  {
   "cell_type": "markdown",
   "id": "03ec4d79-baf9-4d9f-9e15-3dff5076a8de",
   "metadata": {},
   "source": [
    "#### Diabetes = 1\n",
    "#### No Diabetes = 0"
   ]
  },
  {
   "cell_type": "code",
   "execution_count": 32,
   "id": "8163a196-16b4-4be3-9147-33f4a82ab21e",
   "metadata": {},
   "outputs": [
    {
     "data": {
      "text/plain": [
       "DiabetesDiagnosis       int64\n",
       "HighBP                  int64\n",
       "HighChol                int64\n",
       "CholCheck               int64\n",
       "BMI                     int64\n",
       "Smoker                  int64\n",
       "Stroke                  int64\n",
       "HeartDiseaseorAttack    int64\n",
       "PhysActivity            int64\n",
       "Fruits                  int64\n",
       "Veggies                 int64\n",
       "HvyAlcoholConsump       int64\n",
       "AnyHealthcare           int64\n",
       "NoDocbcCost             int64\n",
       "GenHlth                 int64\n",
       "MentHlth                int64\n",
       "PhysHlth                int64\n",
       "DiffWalk                int64\n",
       "Sex                     int64\n",
       "Age                     int64\n",
       "Education               int64\n",
       "Income                  int64\n",
       "dtype: object"
      ]
     },
     "execution_count": 32,
     "metadata": {},
     "output_type": "execute_result"
    }
   ],
   "source": [
    "# Checking dtypes\n",
    "\n",
    "df.dtypes"
   ]
  },
  {
   "cell_type": "markdown",
   "id": "014d06ca-e4e6-4c24-abc4-7247a9ca59e4",
   "metadata": {},
   "source": [
    "#### My problem is a binary classification problem and all my features including my target have been changed into numerical format.\n",
    "#### I am going to go with a Random Forest model which I do not need to scale my features (standardize)."
   ]
  },
  {
   "cell_type": "code",
   "execution_count": 44,
   "id": "709ac8e9-1eb6-43fd-9cfe-b288ba1ddf0b",
   "metadata": {},
   "outputs": [],
   "source": [
    "# Splitting my dataframe into training and test sets\n",
    "\n",
    "# Separating features and targets\n",
    "\n",
    "X = df.drop('DiabetesDiagnosis', axis=1)\n",
    "y = df['DiabetesDiagnosis']\n",
    "\n",
    "# Splitting into train and test sets\n",
    "X_train, y_train, X_test, y_test = train_test_split(\n",
    "    X, y, \n",
    "    test_size=0.2, \n",
    "    random_state=42,\n",
    "    stratify=y\n",
    ")"
   ]
  },
  {
   "cell_type": "code",
   "execution_count": 46,
   "id": "5bb4eeef-8000-415e-bd03-d7aa9c09aa9e",
   "metadata": {},
   "outputs": [
    {
     "name": "stdout",
     "output_type": "stream",
     "text": [
      "HighBP  HighChol  CholCheck  BMI  Smoker  Stroke  HeartDiseaseorAttack  PhysActivity  Fruits  Veggies  HvyAlcoholConsump  AnyHealthcare  NoDocbcCost  GenHlth  MentHlth  PhysHlth  DiffWalk  Sex  Age  Education  Income\n",
      "0       0         1          21   0       0       0                     1             1       1        0                  1              0            1        1         1         0         0    4    6          8         0.000374\n",
      "                             23   0       0       0                     1             1       1        0                  1              0            1        1         1         0         0    6    6          8         0.000355\n",
      "                                                                                                                                                                                                  5    6          8         0.000335\n",
      "                                                                                                                                                                                                  8    6          8         0.000315\n",
      "                                                                                                                                                                                                  7    6          8         0.000276\n",
      "                                                                                                                                                                                                                              ...   \n",
      "                             36   0       0       0                     1             1       0        0                  1              0            3        1         1         0         0    2    4          2         0.000020\n",
      "                                                                                                                                                                                                       6          6         0.000020\n",
      "                                                                                                                                                                                             1    3    3          4         0.000020\n",
      "                                                                                                                                                                                                  10   6          8         0.000020\n",
      "1       1         1          92   1       0       0                     1             0       0        0                  1              0            3        5         1         0         0    9    3          6         0.000020\n",
      "Name: proportion, Length: 46897, dtype: float64\n",
      "DiabetesDiagnosis\n",
      "0    0.84242\n",
      "1    0.15758\n",
      "Name: proportion, dtype: float64\n"
     ]
    }
   ],
   "source": [
    "# Checking for class balance between my test and train split\n",
    "\n",
    "print(y_train.value_counts(normalize=True))\n",
    "print(y_test.value_counts(normalize=True))"
   ]
  },
  {
   "cell_type": "code",
   "execution_count": null,
   "id": "612a4f5e-d22a-45fd-beae-9a679754f755",
   "metadata": {},
   "outputs": [],
   "source": []
  }
 ],
 "metadata": {
  "kernelspec": {
   "display_name": "Python 3 (ipykernel)",
   "language": "python",
   "name": "python3"
  },
  "language_info": {
   "codemirror_mode": {
    "name": "ipython",
    "version": 3
   },
   "file_extension": ".py",
   "mimetype": "text/x-python",
   "name": "python",
   "nbconvert_exporter": "python",
   "pygments_lexer": "ipython3",
   "version": "3.11.8"
  }
 },
 "nbformat": 4,
 "nbformat_minor": 5
}
