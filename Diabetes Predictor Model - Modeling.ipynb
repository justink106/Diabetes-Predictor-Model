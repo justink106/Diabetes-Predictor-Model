{
 "cells": [
  {
   "cell_type": "markdown",
   "id": "cbb60f63-c014-4af2-bf83-01a4ecaa9d03",
   "metadata": {},
   "source": [
    "# Diabetes Predictor Model - Modeling"
   ]
  },
  {
   "cell_type": "markdown",
   "id": "3240a6ec-6998-4bdb-963b-c866911954bb",
   "metadata": {},
   "source": [
    "### In this notebook we will:\n",
    "### 1. Apply 2-3 different modeling methods\n",
    "### 2. Apply model hyperparameter tuning methods\n",
    "### 3. Define the metrics I use to choose my final model\n",
    "### 4. Evaluate the performance of the different models \n",
    "### 5. Identify one of the models as the best model "
   ]
  },
  {
   "cell_type": "markdown",
   "id": "f805f3db-4daf-417e-b9f4-394bea4183a7",
   "metadata": {},
   "source": [
    "##### The main objective is to develop a binary classification model to predict if an individual has Diabetes using their personal and health indicators"
   ]
  },
  {
   "cell_type": "markdown",
   "id": "e1561768-7832-4432-910f-ac9613d33325",
   "metadata": {},
   "source": [
    "### Imports"
   ]
  },
  {
   "cell_type": "code",
   "execution_count": 4,
   "id": "c74db905-a5bc-4b19-8e22-f1a6d5b648ff",
   "metadata": {},
   "outputs": [
    {
     "name": "stdout",
     "output_type": "stream",
     "text": [
      "Requirement already satisfied: xgboost in /opt/anaconda3/lib/python3.11/site-packages (3.0.0)\n",
      "Requirement already satisfied: numpy in /opt/anaconda3/lib/python3.11/site-packages (from xgboost) (1.26.4)\n",
      "Requirement already satisfied: scipy in /opt/anaconda3/lib/python3.11/site-packages (from xgboost) (1.11.4)\n"
     ]
    }
   ],
   "source": [
    "!pip install xgboost"
   ]
  },
  {
   "cell_type": "code",
   "execution_count": 1,
   "id": "3b476a2b-45fc-439e-8a19-82c02faf6487",
   "metadata": {},
   "outputs": [],
   "source": [
    "import numpy as np\n",
    "import pandas as pd\n",
    "import matplotlib.pyplot as plt\n",
    "import seaborn as sns\n",
    "import statsmodels.api as sm\n",
    "from statsmodels.graphics.api import abline_plot\n",
    "from sklearn.metrics import mean_squared_error, r2_score, accuracy_score, roc_auc_score, \\\n",
    "confusion_matrix, classification_report, precision_score, recall_score, f1_score, precision_recall_curve, \\\n",
    "make_scorer, recall_score, ConfusionMatrixDisplay\n",
    "from sklearn.model_selection import train_test_split, GridSearchCV, RandomizedSearchCV\n",
    "from imblearn.pipeline import Pipeline\n",
    "from imblearn.over_sampling import SMOTE\n",
    "\n",
    "import xgboost as xgb\n",
    "from xgboost import XGBClassifier, DMatrix\n",
    "\n",
    "#show plots inline\n",
    "%matplotlib inline"
   ]
  },
  {
   "cell_type": "markdown",
   "id": "1c012be5-a1d1-4a77-92ec-b7e0ee0dd9bd",
   "metadata": {},
   "source": [
    "##### Since I have a binary classification problem, I am going to use the following modeling methods...\n",
    "##### 1. XGBoost (tree-based model)\n",
    "##### 2. K-Nearest Neighbors (KNN) (instance-based model)\n",
    "##### 3. Support Vector Machine (SVM) (margin-based model)"
   ]
  },
  {
   "cell_type": "markdown",
   "id": "2db52baa-fff0-460b-9b29-72cfab8091d2",
   "metadata": {},
   "source": [
    "### Loading the Data"
   ]
  },
  {
   "cell_type": "code",
   "execution_count": 5,
   "id": "1380dec5-9191-46a7-b24b-b206b9d8feb4",
   "metadata": {},
   "outputs": [],
   "source": [
    "# Reading the saved CSV's\n",
    "# Using .squeeze() to turn my single-column DataFrame into a Series\n",
    "\n",
    "X_train = pd.read_csv('X_train.csv')\n",
    "X_test = pd.read_csv('X_test.csv')\n",
    "y_train = pd.read_csv('y_train.csv').squeeze()\n",
    "y_test = pd.read_csv('y_test.csv').squeeze()"
   ]
  },
  {
   "cell_type": "code",
   "execution_count": 7,
   "id": "83c967fb-1c97-40cd-8f72-4439b8f8b4c4",
   "metadata": {},
   "outputs": [
    {
     "name": "stdout",
     "output_type": "stream",
     "text": [
      "(202944, 21) (202944,)\n",
      "(50736, 21) (50736,)\n"
     ]
    }
   ],
   "source": [
    "# Ensuring the shapes match\n",
    "\n",
    "print(X_train.shape, y_train.shape)\n",
    "print(X_test.shape, y_test.shape)"
   ]
  },
  {
   "cell_type": "code",
   "execution_count": 9,
   "id": "f650a3d4-1d4f-4ce6-a5f0-3314d04a23b5",
   "metadata": {
    "scrolled": true
   },
   "outputs": [
    {
     "name": "stdout",
     "output_type": "stream",
     "text": [
      "HighBP                  int64\n",
      "HighChol                int64\n",
      "CholCheck               int64\n",
      "BMI                     int64\n",
      "Smoker                  int64\n",
      "Stroke                  int64\n",
      "HeartDiseaseorAttack    int64\n",
      "PhysActivity            int64\n",
      "Fruits                  int64\n",
      "Veggies                 int64\n",
      "HvyAlcoholConsump       int64\n",
      "AnyHealthcare           int64\n",
      "NoDocbcCost             int64\n",
      "GenHlth                 int64\n",
      "MentHlth                int64\n",
      "PhysHlth                int64\n",
      "DiffWalk                int64\n",
      "Sex                     int64\n",
      "Age                     int64\n",
      "Education               int64\n",
      "Income                  int64\n",
      "dtype: object\n"
     ]
    }
   ],
   "source": [
    "print(X_train.dtypes)"
   ]
  },
  {
   "cell_type": "code",
   "execution_count": 11,
   "id": "78805f2b-490b-4f1c-8ae7-f0e65d331db0",
   "metadata": {},
   "outputs": [
    {
     "name": "stdout",
     "output_type": "stream",
     "text": [
      "int64\n"
     ]
    }
   ],
   "source": [
    "print(y_train.dtypes)"
   ]
  },
  {
   "cell_type": "markdown",
   "id": "e58dfa89-a381-4f47-9e51-70d47574ad09",
   "metadata": {},
   "source": [
    "### XGBoost Model"
   ]
  },
  {
   "cell_type": "code",
   "execution_count": 14,
   "id": "d4b2650a-64cd-4ddc-b705-71baa0610d71",
   "metadata": {},
   "outputs": [],
   "source": [
    "# Creating a SMOTE + XGB pipeline\n",
    "pipeline = Pipeline([\n",
    "    ('smote', SMOTE(random_state=42)),\n",
    "    ('xgb', XGBClassifier(\n",
    "        objective='binary:logistic',\n",
    "        booster='gbtree',\n",
    "        eval_metric='logloss',\n",
    "        n_estimators=300,\n",
    "        learning_rate=0.05,\n",
    "        max_depth=6,\n",
    "        subsample=0.8,\n",
    "        colsample_bytree=0.8,\n",
    "        random_state=42,\n",
    "        n_jobs=-1\n",
    "    ))\n",
    "])"
   ]
  },
  {
   "cell_type": "code",
   "execution_count": 16,
   "id": "bc72882d-b00e-4d35-8eed-e25b4becee8a",
   "metadata": {},
   "outputs": [],
   "source": [
    "# Applying hyperparameter tuning\n",
    "param_grid = {\n",
    "    'xgb__n_estimators': [100, 200, 400],\n",
    "    'xgb__learning_rate': [0.01, 0.03, 0.1],\n",
    "    'xgb__max_depth': [3, 5, 7],\n",
    "    'xgb__subsample': [0.6, 0.8, 1.0],\n",
    "    'xgb__colsample_bytree': [0.6, 0.8, 1.0],\n",
    "    'xgb__gamma': [0, 1, 5],\n",
    "    'xgb__min_child_weight': [1, 3, 5],\n",
    "    'xgb__reg_alpha': [0, 0.1, 1],\n",
    "    'xgb__reg_lambda': [1, 5, 10]\n",
    "}"
   ]
  },
  {
   "cell_type": "code",
   "execution_count": 18,
   "id": "cce851a6-9f4f-4345-9543-b22a753729b5",
   "metadata": {},
   "outputs": [
    {
     "name": "stdout",
     "output_type": "stream",
     "text": [
      "Fitting 3 folds for each of 10 candidates, totalling 30 fits\n",
      "[CV] END xgb__colsample_bytree=1.0, xgb__gamma=1, xgb__learning_rate=0.01, xgb__max_depth=7, xgb__min_child_weight=1, xgb__n_estimators=100, xgb__reg_alpha=0, xgb__reg_lambda=1, xgb__subsample=0.6; total time=   5.9s\n",
      "[CV] END xgb__colsample_bytree=1.0, xgb__gamma=1, xgb__learning_rate=0.01, xgb__max_depth=7, xgb__min_child_weight=1, xgb__n_estimators=100, xgb__reg_alpha=0, xgb__reg_lambda=1, xgb__subsample=0.6; total time=   6.4s\n",
      "[CV] END xgb__colsample_bytree=1.0, xgb__gamma=1, xgb__learning_rate=0.01, xgb__max_depth=7, xgb__min_child_weight=1, xgb__n_estimators=100, xgb__reg_alpha=0, xgb__reg_lambda=1, xgb__subsample=0.6; total time=   6.6s\n",
      "[CV] END xgb__colsample_bytree=0.6, xgb__gamma=0, xgb__learning_rate=0.03, xgb__max_depth=3, xgb__min_child_weight=3, xgb__n_estimators=200, xgb__reg_alpha=1, xgb__reg_lambda=5, xgb__subsample=1.0; total time=   5.9s\n",
      "[CV] END xgb__colsample_bytree=0.6, xgb__gamma=0, xgb__learning_rate=0.03, xgb__max_depth=3, xgb__min_child_weight=3, xgb__n_estimators=200, xgb__reg_alpha=1, xgb__reg_lambda=5, xgb__subsample=1.0; total time=   6.2s\n",
      "[CV] END xgb__colsample_bytree=0.6, xgb__gamma=0, xgb__learning_rate=0.03, xgb__max_depth=3, xgb__min_child_weight=3, xgb__n_estimators=200, xgb__reg_alpha=1, xgb__reg_lambda=5, xgb__subsample=1.0; total time=   6.6s\n",
      "[CV] END xgb__colsample_bytree=0.6, xgb__gamma=5, xgb__learning_rate=0.03, xgb__max_depth=5, xgb__min_child_weight=1, xgb__n_estimators=200, xgb__reg_alpha=0.1, xgb__reg_lambda=10, xgb__subsample=1.0; total time=   6.4s\n",
      "[CV] END xgb__colsample_bytree=0.6, xgb__gamma=5, xgb__learning_rate=0.03, xgb__max_depth=5, xgb__min_child_weight=1, xgb__n_estimators=200, xgb__reg_alpha=0.1, xgb__reg_lambda=10, xgb__subsample=1.0; total time=   6.4s\n",
      "[CV] END xgb__colsample_bytree=0.6, xgb__gamma=5, xgb__learning_rate=0.03, xgb__max_depth=5, xgb__min_child_weight=1, xgb__n_estimators=200, xgb__reg_alpha=0.1, xgb__reg_lambda=10, xgb__subsample=1.0; total time=   6.7s\n",
      "[CV] END xgb__colsample_bytree=0.8, xgb__gamma=5, xgb__learning_rate=0.03, xgb__max_depth=5, xgb__min_child_weight=1, xgb__n_estimators=400, xgb__reg_alpha=0, xgb__reg_lambda=5, xgb__subsample=0.6; total time=   6.7s\n",
      "[CV] END xgb__colsample_bytree=0.8, xgb__gamma=5, xgb__learning_rate=0.03, xgb__max_depth=5, xgb__min_child_weight=1, xgb__n_estimators=400, xgb__reg_alpha=0, xgb__reg_lambda=5, xgb__subsample=0.6; total time=   7.0s\n",
      "[CV] END xgb__colsample_bytree=0.8, xgb__gamma=5, xgb__learning_rate=0.03, xgb__max_depth=5, xgb__min_child_weight=1, xgb__n_estimators=400, xgb__reg_alpha=0, xgb__reg_lambda=5, xgb__subsample=0.6; total time=   7.4s\n",
      "[CV] END xgb__colsample_bytree=0.8, xgb__gamma=5, xgb__learning_rate=0.01, xgb__max_depth=5, xgb__min_child_weight=3, xgb__n_estimators=100, xgb__reg_alpha=1, xgb__reg_lambda=10, xgb__subsample=0.8; total time=   6.1s\n",
      "[CV] END xgb__colsample_bytree=0.8, xgb__gamma=5, xgb__learning_rate=0.01, xgb__max_depth=5, xgb__min_child_weight=3, xgb__n_estimators=100, xgb__reg_alpha=1, xgb__reg_lambda=10, xgb__subsample=0.8; total time=   6.1s\n",
      "[CV] END xgb__colsample_bytree=0.8, xgb__gamma=5, xgb__learning_rate=0.01, xgb__max_depth=5, xgb__min_child_weight=3, xgb__n_estimators=100, xgb__reg_alpha=1, xgb__reg_lambda=10, xgb__subsample=0.8; total time=   6.7s\n",
      "[CV] END xgb__colsample_bytree=0.6, xgb__gamma=5, xgb__learning_rate=0.1, xgb__max_depth=5, xgb__min_child_weight=5, xgb__n_estimators=200, xgb__reg_alpha=0, xgb__reg_lambda=1, xgb__subsample=0.8; total time=   6.0s\n",
      "[CV] END xgb__colsample_bytree=0.6, xgb__gamma=5, xgb__learning_rate=0.1, xgb__max_depth=5, xgb__min_child_weight=5, xgb__n_estimators=200, xgb__reg_alpha=0, xgb__reg_lambda=1, xgb__subsample=0.8; total time=   6.3s\n",
      "[CV] END xgb__colsample_bytree=0.6, xgb__gamma=5, xgb__learning_rate=0.1, xgb__max_depth=5, xgb__min_child_weight=5, xgb__n_estimators=200, xgb__reg_alpha=0, xgb__reg_lambda=1, xgb__subsample=0.8; total time=   6.7s\n",
      "[CV] END xgb__colsample_bytree=1.0, xgb__gamma=1, xgb__learning_rate=0.1, xgb__max_depth=3, xgb__min_child_weight=3, xgb__n_estimators=100, xgb__reg_alpha=0, xgb__reg_lambda=1, xgb__subsample=1.0; total time=   5.5s\n",
      "[CV] END xgb__colsample_bytree=1.0, xgb__gamma=1, xgb__learning_rate=0.1, xgb__max_depth=3, xgb__min_child_weight=3, xgb__n_estimators=100, xgb__reg_alpha=0, xgb__reg_lambda=1, xgb__subsample=1.0; total time=   6.1s\n",
      "[CV] END xgb__colsample_bytree=1.0, xgb__gamma=1, xgb__learning_rate=0.1, xgb__max_depth=3, xgb__min_child_weight=3, xgb__n_estimators=100, xgb__reg_alpha=0, xgb__reg_lambda=1, xgb__subsample=1.0; total time=   6.4s\n",
      "[CV] END xgb__colsample_bytree=0.6, xgb__gamma=5, xgb__learning_rate=0.01, xgb__max_depth=3, xgb__min_child_weight=1, xgb__n_estimators=200, xgb__reg_alpha=1, xgb__reg_lambda=10, xgb__subsample=0.8; total time=   6.1s\n",
      "[CV] END xgb__colsample_bytree=0.6, xgb__gamma=5, xgb__learning_rate=0.01, xgb__max_depth=3, xgb__min_child_weight=1, xgb__n_estimators=200, xgb__reg_alpha=1, xgb__reg_lambda=10, xgb__subsample=0.8; total time=   6.2s\n",
      "[CV] END xgb__colsample_bytree=0.6, xgb__gamma=5, xgb__learning_rate=0.01, xgb__max_depth=3, xgb__min_child_weight=1, xgb__n_estimators=200, xgb__reg_alpha=1, xgb__reg_lambda=10, xgb__subsample=0.8; total time=   6.5s\n",
      "[CV] END xgb__colsample_bytree=1.0, xgb__gamma=0, xgb__learning_rate=0.03, xgb__max_depth=7, xgb__min_child_weight=3, xgb__n_estimators=100, xgb__reg_alpha=0, xgb__reg_lambda=5, xgb__subsample=1.0; total time=   5.9s\n",
      "[CV] END xgb__colsample_bytree=1.0, xgb__gamma=0, xgb__learning_rate=0.03, xgb__max_depth=7, xgb__min_child_weight=3, xgb__n_estimators=100, xgb__reg_alpha=0, xgb__reg_lambda=5, xgb__subsample=1.0; total time=   6.2s\n",
      "[CV] END xgb__colsample_bytree=1.0, xgb__gamma=0, xgb__learning_rate=0.03, xgb__max_depth=7, xgb__min_child_weight=3, xgb__n_estimators=100, xgb__reg_alpha=0, xgb__reg_lambda=5, xgb__subsample=1.0; total time=   6.6s\n",
      "[CV] END xgb__colsample_bytree=0.8, xgb__gamma=5, xgb__learning_rate=0.01, xgb__max_depth=5, xgb__min_child_weight=5, xgb__n_estimators=100, xgb__reg_alpha=1, xgb__reg_lambda=5, xgb__subsample=1.0; total time=   5.7s\n",
      "[CV] END xgb__colsample_bytree=0.8, xgb__gamma=5, xgb__learning_rate=0.01, xgb__max_depth=5, xgb__min_child_weight=5, xgb__n_estimators=100, xgb__reg_alpha=1, xgb__reg_lambda=5, xgb__subsample=1.0; total time=   6.0s\n",
      "[CV] END xgb__colsample_bytree=0.8, xgb__gamma=5, xgb__learning_rate=0.01, xgb__max_depth=5, xgb__min_child_weight=5, xgb__n_estimators=100, xgb__reg_alpha=1, xgb__reg_lambda=5, xgb__subsample=1.0; total time=   6.4s\n",
      "Best Score:0.7848163532467618\n",
      "Best Parameters: {'xgb__subsample': 0.8, 'xgb__reg_lambda': 10, 'xgb__reg_alpha': 1, 'xgb__n_estimators': 200, 'xgb__min_child_weight': 1, 'xgb__max_depth': 3, 'xgb__learning_rate': 0.01, 'xgb__gamma': 5, 'xgb__colsample_bytree': 0.6}\n"
     ]
    }
   ],
   "source": [
    "# Using RandomizedSearchCV to determine the best hyperparameters for the XGB model\n",
    "\n",
    "rand = RandomizedSearchCV(\n",
    "    estimator=pipeline,\n",
    "    param_distributions=param_grid,\n",
    "    n_iter=10,\n",
    "    scoring='recall',\n",
    "    cv=3,\n",
    "    random_state=42,\n",
    "    n_jobs=1,\n",
    "    verbose=2\n",
    ")\n",
    "\n",
    "\n",
    "rand.fit(X_train, y_train)\n",
    "best_xgb = rand.best_estimator_\n",
    "\n",
    "print(\"Best Score:\" + str(rand.best_score_))\n",
    "print(\"Best Parameters: \" + str(rand.best_params_))"
   ]
  },
  {
   "cell_type": "code",
   "execution_count": 20,
   "id": "1325c46c-1bdc-4673-952f-0e59cc21ecfd",
   "metadata": {
    "scrolled": true
   },
   "outputs": [
    {
     "name": "stdout",
     "output_type": "stream",
     "text": [
      "              precision    recall  f1-score   support\n",
      "\n",
      "           0       0.94      0.68      0.79     42741\n",
      "           1       0.32      0.78      0.45      7995\n",
      "\n",
      "    accuracy                           0.70     50736\n",
      "   macro avg       0.63      0.73      0.62     50736\n",
      "weighted avg       0.84      0.70      0.74     50736\n",
      "\n"
     ]
    }
   ],
   "source": [
    "# Getting predictions\n",
    "y_pred = best_xgb.predict(X_test)\n",
    "\n",
    "print(classification_report(y_test, y_pred))"
   ]
  },
  {
   "cell_type": "markdown",
   "id": "bc1ff81f-079b-4dd5-9ff2-c3538f19f51a",
   "metadata": {},
   "source": [
    "##### My model is maximizing on recall as not catching a diabetes diagnosis can be severe\n",
    "##### Recall is good but I sacrificed precision"
   ]
  },
  {
   "cell_type": "code",
   "execution_count": 22,
   "id": "8bf67051-f5db-4db7-8681-c35e32810010",
   "metadata": {},
   "outputs": [
    {
     "data": {
      "image/png": "[encoded data removed]",
      "text/plain": [
       "<Figure size 640x480 with 2 Axes>"
      ]
     },
     "metadata": {},
     "output_type": "display_data"
    }
   ],
   "source": [
    "# Making a confusion matrix\n",
    "cm = confusion_matrix(y_test, y_pred)\n",
    "\n",
    "# Plotting\n",
    "ConfusionMatrixDisplay(cm).plot(cmap='Blues')\n",
    "plt.title('Confusion Matrix on Test Set')\n",
    "plt.show()"
   ]
  },
  {
   "cell_type": "markdown",
   "id": "cf2c9a7e-d1d2-4752-883e-12bb73894479",
   "metadata": {},
   "source": [
    "##### Based on the confusion matrix...\n",
    "##### 1.) There are 29176 correct diabetes predictions\n",
    "##### 2.) There are 6253 correct predictions for non-diabetes\n",
    "##### 3.) There are 13565 diabetes predictions that are wrong\n",
    "##### 4.) There are 1742 non-diabetes predictions that are wrong"
   ]
  },
  {
   "cell_type": "code",
   "execution_count": null,
   "id": "0609e608-869f-4ddb-b814-8fcec5a7c4a7",
   "metadata": {},
   "outputs": [],
   "source": []
  }
 ],
 "metadata": {
  "kernelspec": {
   "display_name": "Python 3 (ipykernel)",
   "language": "python",
   "name": "python3"
  },
  "language_info": {
   "codemirror_mode": {
    "name": "ipython",
    "version": 3
   },
   "file_extension": ".py",
   "mimetype": "text/x-python",
   "name": "python",
   "nbconvert_exporter": "python",
   "pygments_lexer": "ipython3",
   "version": "3.11.8"
  }
 },
 "nbformat": 4,
 "nbformat_minor": 5
}
