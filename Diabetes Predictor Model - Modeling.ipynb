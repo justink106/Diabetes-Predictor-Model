{
 "cells": [
  {
   "cell_type": "markdown",
   "id": "cbb60f63-c014-4af2-bf83-01a4ecaa9d03",
   "metadata": {},
   "source": [
    "# Diabetes Predictor Model - Modeling"
   ]
  },
  {
   "cell_type": "markdown",
   "id": "3240a6ec-6998-4bdb-963b-c866911954bb",
   "metadata": {},
   "source": [
    "### In this notebook we will:\n",
    "### 1. Apply 2-3 different modeling methods\n",
    "### 2. Apply model hyperparameter tuning methods\n",
    "### 3. Define the metrics I use to choose my final model\n",
    "### 4. Evaluate the performance of the different models \n",
    "### 5. Identify one of the models as the best model "
   ]
  },
  {
   "cell_type": "markdown",
   "id": "f805f3db-4daf-417e-b9f4-394bea4183a7",
   "metadata": {},
   "source": [
    "##### The main objective is to develop a binary classification model to predict if an individual has Diabetes using their personal and health indicators"
   ]
  },
  {
   "cell_type": "markdown",
   "id": "e1561768-7832-4432-910f-ac9613d33325",
   "metadata": {},
   "source": [
    "### Imports"
   ]
  },
  {
   "cell_type": "code",
   "execution_count": null,
   "id": "3b476a2b-45fc-439e-8a19-82c02faf6487",
   "metadata": {},
   "outputs": [],
   "source": [
    "import numpy as np\n",
    "import pandas as pd\n",
    "import matplotlib.pyplot as plt\n",
    "import seaborn as sns\n",
    "import statsmodels.api as sm\n",
    "from statsmodels.graphics.api import abline_plot\n",
    "from sklearn.metrics import mean_squared_error, r2_score\n",
    "from sklearn.model_selection import train_test_split, GridSearchCV\n",
    "from sklearn"
   ]
  }
 ],
 "metadata": {
  "kernelspec": {
   "display_name": "Python 3 (ipykernel)",
   "language": "python",
   "name": "python3"
  },
  "language_info": {
   "codemirror_mode": {
    "name": "ipython",
    "version": 3
   },
   "file_extension": ".py",
   "mimetype": "text/x-python",
   "name": "python",
   "nbconvert_exporter": "python",
   "pygments_lexer": "ipython3",
   "version": "3.11.8"
  }
 },
 "nbformat": 4,
 "nbformat_minor": 5
}
